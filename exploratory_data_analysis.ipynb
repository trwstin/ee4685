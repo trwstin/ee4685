{
 "cells": [
  {
   "cell_type": "markdown",
   "metadata": {},
   "source": [
    "Exploratory data analysis\n",
    "\n",
    "inspired by https://www.kaggle.com/code/elfgfr/exploratory-data-analysis/notebook#White-Wine-Quality-with-Exploratory-Data-Analysis-%E2%80%94-EDA"
   ]
  }
 ],
 "metadata": {
  "language_info": {
   "name": "python"
  }
 },
 "nbformat": 4,
 "nbformat_minor": 2
}
