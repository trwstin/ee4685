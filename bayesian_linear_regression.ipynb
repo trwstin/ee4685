{
 "cells": [
  {
   "cell_type": "markdown",
   "metadata": {},
   "source": [
    "### Predict wine quality with Bayesian Linear Regression\n",
    "*March 2025*\n",
    "\n",
    "Recall Bayesian Linear Regression working principle:"
   ]
  },
  {
   "cell_type": "code",
   "execution_count": 1,
   "metadata": {},
   "outputs": [],
   "source": [
    "import numpy as np\n",
    "import pandas as pd\n",
    "import seaborn as sns\n",
    "import matplotlib.pyplot as plt\n",
    "from sklearn.linear_model import BayesianRidge\n",
    "from imblearn.over_sampling import SMOTE\n",
    "from imblearn.combine import SMOTETomek\n",
    "from sklearn.model_selection import GridSearchCV\n",
    "from sklearn.preprocessing import StandardScaler, RobustScaler\n",
    "from sklearn.model_selection import train_test_split\n",
    "from sklearn.metrics import mean_squared_error, r2_score, accuracy_score, confusion_matrix, f1_score\n",
    "\n",
    "random_seed = 42"
   ]
  },
  {
   "cell_type": "markdown",
   "metadata": {},
   "source": [
    "I/ Load datasets"
   ]
  },
  {
   "cell_type": "code",
   "execution_count": 146,
   "metadata": {},
   "outputs": [],
   "source": [
    "red_wine = pd.read_csv(\"winequality-red.csv\")\n",
    "red_wine = red_wine.drop_duplicates()"
   ]
  },
  {
   "cell_type": "code",
   "execution_count": 242,
   "metadata": {},
   "outputs": [],
   "source": [
    "white_wine = pd.read_csv(\"winequality-white.csv\", sep=\";\")\n",
    "white_wine = white_wine.drop_duplicates()"
   ]
  },
  {
   "cell_type": "markdown",
   "metadata": {},
   "source": [
    "II/ White wine"
   ]
  },
  {
   "cell_type": "markdown",
   "metadata": {},
   "source": [
    "With 7 classes"
   ]
  },
  {
   "cell_type": "code",
   "execution_count": 243,
   "metadata": {},
   "outputs": [],
   "source": [
    "y = white_wine.quality\n",
    "X = white_wine.copy().drop([\"quality\"], axis=1)"
   ]
  },
  {
   "cell_type": "code",
   "execution_count": 245,
   "metadata": {},
   "outputs": [],
   "source": [
    "X_train, X_test, y_train, y_test = train_test_split(X, y, test_size=0.2, random_state=42)\n",
    "\n",
    "# Apply SMOTE + Tomek links (oversample minority, undersample majority)\n",
    "smote_tomek = SMOTE(random_state=42, k_neighbors=4)\n",
    "X_train, y_train = smote_tomek.fit_resample(X_train, y_train)"
   ]
  },
  {
   "cell_type": "code",
   "execution_count": 246,
   "metadata": {},
   "outputs": [],
   "source": [
    "rb_scaler = RobustScaler()\n",
    "X_train = rb_scaler.fit_transform(X_train)\n",
    "X_test = rb_scaler.transform(X_test)"
   ]
  },
  {
   "cell_type": "code",
   "execution_count": 247,
   "metadata": {},
   "outputs": [
    {
     "name": "stdout",
     "output_type": "stream",
     "text": [
      "{'alpha_1': 0.001, 'alpha_2': 1e-06, 'lambda_1': 1e-06, 'lambda_2': 0.001}\n"
     ]
    }
   ],
   "source": [
    "param_grid = {\n",
    "    'alpha_1': [1e-6, 1e-5, 1e-4, 1e-3],\n",
    "    'alpha_2': [1e-6, 1e-5, 1e-4, 1e-3],\n",
    "    'lambda_1': [1e-6, 1e-5, 1e-4, 1e-3],\n",
    "    'lambda_2': [1e-6, 1e-5, 1e-4, 1e-3],\n",
    "}\n",
    "\n",
    "bayesian_ridge = BayesianRidge()\n",
    "grid_search = GridSearchCV(bayesian_ridge, param_grid, cv=5, scoring='neg_mean_squared_error', n_jobs=-1)\n",
    "grid_search.fit(X_train, y_train)\n",
    "\n",
    "best_model = grid_search.best_estimator_\n",
    "print(grid_search.best_params_)"
   ]
  },
  {
   "cell_type": "code",
   "execution_count": 248,
   "metadata": {},
   "outputs": [],
   "source": [
    "# Predictions\n",
    "y_pred = best_model.predict(X_test)"
   ]
  },
  {
   "cell_type": "code",
   "execution_count": 249,
   "metadata": {},
   "outputs": [],
   "source": [
    "y_pred = np.round(y_pred).astype(int)\n",
    "y_test = np.round(y_test).astype(int)"
   ]
  },
  {
   "cell_type": "code",
   "execution_count": 250,
   "metadata": {},
   "outputs": [
    {
     "data": {
      "text/plain": [
       "0.39722572509457754"
      ]
     },
     "execution_count": 250,
     "metadata": {},
     "output_type": "execute_result"
    }
   ],
   "source": [
    "accuracy = accuracy_score(np.round(y_test).astype(int), np.round(y_pred).astype(int))\n",
    "accuracy"
   ]
  },
  {
   "cell_type": "code",
   "execution_count": 251,
   "metadata": {},
   "outputs": [
    {
     "data": {
      "text/plain": [
       "array([[  0,   0,   0,   0,   0,   0,   0,   0,   0],\n",
       "       [  1,   0,   1,   1,   1,   0,   0,   1,   0],\n",
       "       [  0,   3,   7,  10,   8,   2,   0,   0,   0],\n",
       "       [  0,   8,  51, 108,  54,  10,   3,   0,   0],\n",
       "       [  0,   3,  27, 112, 129,  65,  12,   1,   0],\n",
       "       [  0,   0,   3,   7,  45,  64,  25,   0,   1],\n",
       "       [  0,   0,   1,   2,  10,   9,   7,   1,   0],\n",
       "       [  0,   0,   0,   0,   0,   0,   0,   0,   0],\n",
       "       [  0,   0,   0,   0,   0,   0,   0,   0,   0]], dtype=int64)"
      ]
     },
     "execution_count": 251,
     "metadata": {},
     "output_type": "execute_result"
    }
   ],
   "source": [
    "conf_matrix = confusion_matrix(np.round(y_test).astype(int), np.round(y_pred).astype(int))\n",
    "conf_matrix"
   ]
  },
  {
   "cell_type": "markdown",
   "metadata": {},
   "source": [
    "With 3 classes trained on 7 classes"
   ]
  },
  {
   "cell_type": "code",
   "execution_count": 2,
   "metadata": {},
   "outputs": [],
   "source": [
    "white_wine = pd.read_csv(\"winequality-white.csv\", sep=\";\")\n",
    "white_wine = white_wine.drop_duplicates()"
   ]
  },
  {
   "cell_type": "code",
   "execution_count": 3,
   "metadata": {},
   "outputs": [],
   "source": [
    "y = white_wine.quality\n",
    "X = white_wine.copy().drop([\"quality\"], axis=1)"
   ]
  },
  {
   "cell_type": "code",
   "execution_count": 4,
   "metadata": {},
   "outputs": [],
   "source": [
    "X_train, X_test, y_train, y_test = train_test_split(X, y, test_size=0.2, random_state=42)\n",
    "\n",
    "# Apply SMOTE + Tomek links (oversample minority, undersample majority)\n",
    "smote_tomek = SMOTE(random_state=42, k_neighbors=4)\n",
    "X_train, y_train = smote_tomek.fit_resample(X_train, y_train)"
   ]
  },
  {
   "cell_type": "code",
   "execution_count": 5,
   "metadata": {},
   "outputs": [],
   "source": [
    "rb_scaler = RobustScaler()\n",
    "X_train = rb_scaler.fit_transform(X_train)\n",
    "X_test = rb_scaler.transform(X_test)"
   ]
  },
  {
   "cell_type": "code",
   "execution_count": 6,
   "metadata": {},
   "outputs": [
    {
     "name": "stdout",
     "output_type": "stream",
     "text": [
      "{'alpha_1': 0.001, 'alpha_2': 1e-06, 'lambda_1': 1e-06, 'lambda_2': 0.001}\n"
     ]
    }
   ],
   "source": [
    "param_grid = {\n",
    "    'alpha_1': [1e-6, 1e-5, 1e-4, 1e-3],\n",
    "    'alpha_2': [1e-6, 1e-5, 1e-4, 1e-3],\n",
    "    'lambda_1': [1e-6, 1e-5, 1e-4, 1e-3],\n",
    "    'lambda_2': [1e-6, 1e-5, 1e-4, 1e-3],\n",
    "}\n",
    "\n",
    "bayesian_ridge = BayesianRidge()\n",
    "grid_search = GridSearchCV(bayesian_ridge, param_grid, cv=5, scoring='neg_mean_squared_error', n_jobs=-1)\n",
    "grid_search.fit(X_train, y_train)\n",
    "\n",
    "best_model = grid_search.best_estimator_\n",
    "print(grid_search.best_params_)"
   ]
  },
  {
   "cell_type": "code",
   "execution_count": 7,
   "metadata": {},
   "outputs": [],
   "source": [
    "# Predictions\n",
    "y_pred = best_model.predict(X_test)"
   ]
  },
  {
   "cell_type": "code",
   "execution_count": 8,
   "metadata": {},
   "outputs": [],
   "source": [
    "y_pred = np.round(y_pred).astype(int)\n",
    "y_test = np.round(y_test).astype(int)\n",
    "y_pred[y_pred <= 3] = 0 #poor wines\n",
    "y_pred[y_pred >= 7] = 2 #excellent wines\n",
    "y_pred[(y_pred > 3) & (y_pred < 8)] = 1 #average wines\n",
    "y_test[y_test <= 3] = 0 #poor wines\n",
    "y_test[y_test >= 7] = 2 #excellent wines\n",
    "y_test[(y_test > 3) & (y_test < 8)] = 1 #average wines"
   ]
  },
  {
   "cell_type": "code",
   "execution_count": 9,
   "metadata": {},
   "outputs": [
    {
     "data": {
      "text/plain": [
       "0.7742749054224464"
      ]
     },
     "execution_count": 9,
     "metadata": {},
     "output_type": "execute_result"
    }
   ],
   "source": [
    "accuracy = accuracy_score(np.round(y_test).astype(int), np.round(y_pred).astype(int))\n",
    "accuracy"
   ]
  },
  {
   "cell_type": "code",
   "execution_count": 10,
   "metadata": {},
   "outputs": [
    {
     "data": {
      "text/plain": [
       "array([[  1,   3,   1],\n",
       "       [ 14, 506,  93],\n",
       "       [  0,  68, 107]], dtype=int64)"
      ]
     },
     "execution_count": 10,
     "metadata": {},
     "output_type": "execute_result"
    }
   ],
   "source": [
    "conf_matrix = confusion_matrix(np.round(y_test).astype(int), np.round(y_pred).astype(int))\n",
    "conf_matrix"
   ]
  },
  {
   "cell_type": "code",
   "execution_count": 12,
   "metadata": {},
   "outputs": [
    {
     "data": {
      "text/plain": [
       "0.7836174361349272"
      ]
     },
     "execution_count": 12,
     "metadata": {},
     "output_type": "execute_result"
    }
   ],
   "source": [
    "f1_score(y_test, y_pred, average='weighted')"
   ]
  },
  {
   "cell_type": "markdown",
   "metadata": {},
   "source": [
    "With 3 classes trained on 3 classes: bad, intermediate, excellent"
   ]
  },
  {
   "cell_type": "code",
   "execution_count": 232,
   "metadata": {},
   "outputs": [],
   "source": [
    "white_wine = pd.read_csv(\"winequality-white.csv\", sep=\";\")\n",
    "white_wine = white_wine.drop_duplicates()"
   ]
  },
  {
   "cell_type": "code",
   "execution_count": 233,
   "metadata": {},
   "outputs": [],
   "source": [
    "y = white_wine.quality.values\n",
    "y[y <= 3] = 0 #poor wines\n",
    "y[y >= 7] = 2 #excellent wines\n",
    "y[(y > 3) & (y < 8)] = 1 #average wines\n",
    "X = white_wine.copy().drop([\"quality\"], axis=1)"
   ]
  },
  {
   "cell_type": "code",
   "execution_count": 234,
   "metadata": {},
   "outputs": [],
   "source": [
    "X_train, X_test, y_train, y_test = train_test_split(X, y, test_size=0.3, random_state=42)\n",
    "\n",
    "# Apply SMOTE + Tomek links (oversample minority, undersample majority)\n",
    "#sampler = SMOTETomek(random_state=42)\n",
    "sampler = SMOTE(random_state=42)\n",
    "X_train, y_train = sampler.fit_resample(X_train, y_train)"
   ]
  },
  {
   "cell_type": "code",
   "execution_count": 235,
   "metadata": {},
   "outputs": [],
   "source": [
    "rb_scaler = RobustScaler()\n",
    "X_train = rb_scaler.fit_transform(X_train)\n",
    "X_test = rb_scaler.transform(X_test)"
   ]
  },
  {
   "cell_type": "code",
   "execution_count": 236,
   "metadata": {},
   "outputs": [
    {
     "name": "stdout",
     "output_type": "stream",
     "text": [
      "{'alpha_1': 1e-06, 'alpha_2': 0.001, 'lambda_1': 0.001, 'lambda_2': 0.001}\n"
     ]
    }
   ],
   "source": [
    "param_grid = {\n",
    "    'alpha_1': [1e-6, 1e-5, 1e-4, 1e-3],\n",
    "    'alpha_2': [1e-6, 1e-5, 1e-4, 1e-3],\n",
    "    'lambda_1': [1e-6, 1e-5, 1e-4, 1e-3],\n",
    "    'lambda_2': [1e-6, 1e-5, 1e-4, 1e-3],\n",
    "}\n",
    "\n",
    "bayesian_ridge = BayesianRidge()\n",
    "grid_search = GridSearchCV(bayesian_ridge, param_grid, cv=5, scoring='neg_mean_squared_error', n_jobs=-1)\n",
    "grid_search.fit(X_train, y_train)\n",
    "\n",
    "best_model = grid_search.best_estimator_\n",
    "print(grid_search.best_params_)"
   ]
  },
  {
   "cell_type": "code",
   "execution_count": 237,
   "metadata": {},
   "outputs": [],
   "source": [
    "y_pred = best_model.predict(X_test)\n",
    "y_pred = np.round(y_pred).astype(int)"
   ]
  },
  {
   "cell_type": "code",
   "execution_count": 238,
   "metadata": {},
   "outputs": [],
   "source": [
    "y_pred[y_pred<=0] = 0\n",
    "y_pred[y_pred>=2] = 2"
   ]
  },
  {
   "cell_type": "code",
   "execution_count": 239,
   "metadata": {},
   "outputs": [
    {
     "data": {
      "text/plain": [
       "0.671152228763667"
      ]
     },
     "execution_count": 239,
     "metadata": {},
     "output_type": "execute_result"
    }
   ],
   "source": [
    "accuracy = accuracy_score(np.round(y_test).astype(int), np.round(y_pred).astype(int))\n",
    "accuracy"
   ]
  },
  {
   "cell_type": "code",
   "execution_count": 240,
   "metadata": {},
   "outputs": [
    {
     "data": {
      "text/plain": [
       "array([[  2,   5,   0],\n",
       "       [127, 705, 104],\n",
       "       [  5, 150,  91]], dtype=int64)"
      ]
     },
     "execution_count": 240,
     "metadata": {},
     "output_type": "execute_result"
    }
   ],
   "source": [
    "conf_matrix = confusion_matrix(np.round(y_test).astype(int), np.round(y_pred).astype(int))\n",
    "conf_matrix"
   ]
  },
  {
   "cell_type": "code",
   "execution_count": 241,
   "metadata": {},
   "outputs": [
    {
     "data": {
      "text/plain": [
       "0.7035789345855155"
      ]
     },
     "execution_count": 241,
     "metadata": {},
     "output_type": "execute_result"
    }
   ],
   "source": [
    "f1_score(y_test, y_pred, average='weighted')"
   ]
  },
  {
   "cell_type": "code",
   "execution_count": null,
   "metadata": {},
   "outputs": [],
   "source": []
  }
 ],
 "metadata": {
  "kernelspec": {
   "display_name": "playground",
   "language": "python",
   "name": "python3"
  },
  "language_info": {
   "codemirror_mode": {
    "name": "ipython",
    "version": 3
   },
   "file_extension": ".py",
   "mimetype": "text/x-python",
   "name": "python",
   "nbconvert_exporter": "python",
   "pygments_lexer": "ipython3",
   "version": "3.11.9"
  }
 },
 "nbformat": 4,
 "nbformat_minor": 2
}
